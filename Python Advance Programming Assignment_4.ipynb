{
 "cells": [
  {
   "attachments": {
    "image.png": {
     "image/png": "[encoded data removed]"
    }
   },
   "cell_type": "markdown",
   "id": "3a9520b0",
   "metadata": {},
   "source": [
    "1.In mathematics, the Fibonacci numbers, commonly denoted Fn, form a sequence, called the Fibonacci sequence, such that each number is the sum of the two preceding ones, starting from 0 and 1:\n",
    "![image.png](attachment:image.png)\n",
    "The beginning of the sequence is this: 0, 1, 1, 2, 3, 5, 8, 13, 21, 34, 55, 89, 144, ...\n",
    "\n",
    "The function fastFib(num) returns the fibonacci number Fn, of the given num as an argument.\n",
    "\n",
    "Examples:\n",
    "\n",
    "fib_fast(5) ➞ 5\n",
    "\n",
    "fib_fast(10) ➞ 55\n",
    "\n",
    "fib_fast(20) ➞ 6765\n",
    "\n",
    "fib_fast(50) ➞ 12586269025"
   ]
  },
  {
   "cell_type": "code",
   "execution_count": 1,
   "id": "42e63411",
   "metadata": {},
   "outputs": [
    {
     "name": "stdout",
     "output_type": "stream",
     "text": [
      "fib_fast_one(5) ➞ 5\n",
      "fib_fast_one(10) ➞ 55\n",
      "fib_fast_one(20) ➞ 6765\n",
      "fib_fast_one(50) ➞ 12586269025\n",
      "\n",
      "fib_fast_two(5) ➞ 5\n",
      "fib_fast_two(10) ➞ 55\n",
      "fib_fast_two(20) ➞ 6765\n",
      "fib_fast_two(50) ➞ 12586269025\n"
     ]
    }
   ],
   "source": [
    "# Approach 1\n",
    "def fib_fast_one(in_num):\n",
    "    temp_list = []\n",
    "    for ele in range(in_num+1):\n",
    "        if ele in [0,1]:\n",
    "            temp_list.append(ele)\n",
    "        else:\n",
    "            temp_list.append(temp_list[-1]+temp_list[-2])\n",
    "    print(f'fib_fast_one({in_num}) ➞ {temp_list[-1]}')\n",
    "    \n",
    "# Approach 2 -> Memory Efficient\n",
    "def fib_fast_two(in_num):\n",
    "    back_two,back_one,output = 0,1,0\n",
    "    for ele in range(in_num+1):\n",
    "        if ele > 1:\n",
    "            output = back_two+back_one\n",
    "            back_two = back_one\n",
    "            back_one = output\n",
    "    print(f'fib_fast_two({in_num}) ➞ {output}')\n",
    "\n",
    "fib_fast_one(5)\n",
    "fib_fast_one(10)\n",
    "fib_fast_one(20)\n",
    "fib_fast_one(50)    \n",
    "print() \n",
    "fib_fast_two(5)\n",
    "fib_fast_two(10)\n",
    "fib_fast_two(20)\n",
    "fib_fast_two(50)"
   ]
  },
  {
   "cell_type": "markdown",
   "id": "174a3fb1",
   "metadata": {},
   "source": [
    "2.Create a function that takes a strings characters as ASCII and returns each characters hexadecimal value as a string.\n",
    "Examples:\n",
    "\n",
    "convert_to_hex(\"hello world\") ➞ \"68 65 6c 6c 6f 20 77 6f 72 6c 64\"\n",
    "\n",
    "convert_to_hex(\"Big Boi\") ➞ \"42 69 67 20 42 6f 69\"\n",
    "\n",
    "convert_to_hex(\"Marty Poppinson\") ➞ \"4d 61 72 74 79 20 50 6f 70 70 69 6e 73 6f 6e\""
   ]
  },
  {
   "cell_type": "code",
   "execution_count": 2,
   "id": "0fe40655",
   "metadata": {},
   "outputs": [
    {
     "name": "stdout",
     "output_type": "stream",
     "text": [
      "convert_to_hex(hello world) ➞ 68 65 6c 6c 6f 20 77 6f 72 6c 64\n",
      "convert_to_hex(Big Boi) ➞ 42 69 67 20 42 6f 69\n",
      "convert_to_hex(Marty Poppinson) ➞ 4d 61 72 74 79 20 50 6f 70 70 69 6e 73 6f 6e\n"
     ]
    }
   ],
   "source": [
    "def convert_to_hex(in_string):\n",
    "    out_string = []\n",
    "    for ele in in_string:\n",
    "        out_string.append(hex(ord(ele))[2:])\n",
    "    print(f'convert_to_hex({in_string}) ➞ {\" \".join(out_string)}')\n",
    "\n",
    "convert_to_hex(\"hello world\")\n",
    "convert_to_hex(\"Big Boi\")\n",
    "convert_to_hex(\"Marty Poppinson\")"
   ]
  },
  {
   "cell_type": "markdown",
   "id": "c642d4c8",
   "metadata": {},
   "source": [
    "3.Someone has attempted to censor my strings by replacing every vowel with a *, l*k* th*s. Luckily, I've been able to find the vowels that were removed.\n",
    "\n",
    "Given a censored string and a string of the censored vowels, return the original uncensored string.\n",
    "\n",
    "Examples:\n",
    "\n",
    "uncensor(\"Wh*r* d*d my v*w*ls g*?\", \"eeioeo\") ➞ \"Where did my vowels go?\"\n",
    "\n",
    "uncensor(\"abcd\", \"\") ➞ \"abcd\"\n",
    "\n",
    "uncensor(\"*PP*RC*S*\", \"UEAE\") ➞ \"UPPERCASE\""
   ]
  },
  {
   "cell_type": "code",
   "execution_count": 3,
   "id": "b2bbb488",
   "metadata": {},
   "outputs": [
    {
     "name": "stdout",
     "output_type": "stream",
     "text": [
      "uncensor('Wh*r* d*d my v*w*ls g*?', 'eeioeo') ➞ Where did my vowels go?\n",
      "uncensor('abcd', '') ➞ abcd\n",
      "uncensor('*PP*RC*S*', 'UEAE') ➞ UPPERCASE\n"
     ]
    }
   ],
   "source": [
    "def uncensor(in_string,in_vowels):\n",
    "    window = 0\n",
    "    out_string = ''\n",
    "    for ele in in_string:\n",
    "        if ele == '*':\n",
    "            out_string += in_vowels[window]\n",
    "            window +=1\n",
    "        else:\n",
    "            out_string += ele\n",
    "    print(f'uncensor{in_string,in_vowels} ➞ {out_string}')\n",
    "\n",
    "uncensor(\"Wh*r* d*d my v*w*ls g*?\", \"eeioeo\")\n",
    "uncensor(\"abcd\", \"\")\n",
    "uncensor(\"*PP*RC*S*\", \"UEAE\") "
   ]
  },
  {
   "cell_type": "markdown",
   "id": "79f1abce",
   "metadata": {},
   "source": [
    "4.Write a function that takes an IP address and returns the domain name using PTR DNS records.\n",
    "\n",
    "Examples:\n",
    "\n",
    "get_domain(\"8.8.8.8\") ➞ \"dns.google\"\n",
    "\n",
    "get_domain(\"8.8.4.4\") ➞ \"dns.google\""
   ]
  },
  {
   "cell_type": "code",
   "execution_count": 4,
   "id": "ef749f7e",
   "metadata": {},
   "outputs": [
    {
     "name": "stdout",
     "output_type": "stream",
     "text": [
      "get_domain(8.8.8.8) ➞ ('dns.google', [], ['8.8.8.8']) ➞ dns.google\n",
      "get_domain(8.8.4.4) ➞ ('dns.google', [], ['8.8.4.4']) ➞ dns.google\n"
     ]
    }
   ],
   "source": [
    "import socket\n",
    "def get_domain(in_ip):\n",
    "    print(f'get_domain({in_ip}) ➞ {socket.gethostbyaddr(in_ip)} ➞ {socket.gethostbyaddr(in_ip)[0]}')\n",
    "    \n",
    "get_domain(\"8.8.8.8\")\n",
    "get_domain(\"8.8.4.4\")"
   ]
  },
  {
   "cell_type": "markdown",
   "id": "9ae294f6",
   "metadata": {},
   "source": [
    "5.Create a function that takes an integer n and returns the factorial of factorials. See below examples for a better understanding:\n",
    "\n",
    "Examples:\n",
    "\n",
    "fact_of_fact(4) ➞ 288\n",
    "\n",
    "# 4! * 3! * 2! * 1! = 288\n",
    "\n",
    "fact_of_fact(5) ➞ 34560\n",
    "\n",
    "fact_of_fact(6) ➞ 24883200"
   ]
  },
  {
   "cell_type": "code",
   "execution_count": 5,
   "id": "e9a75955",
   "metadata": {},
   "outputs": [
    {
     "name": "stdout",
     "output_type": "stream",
     "text": [
      "fact_of_fact(4) ➞ 288\n",
      "fact_of_fact(5) ➞ 34560\n",
      "fact_of_fact(6) ➞ 24883200\n"
     ]
    }
   ],
   "source": [
    "def fact_of_fact(in_num):\n",
    "    # Internal Function to generate factorial of a Number\n",
    "    def get_factorial(n):\n",
    "        if n == 1:\n",
    "            return 1\n",
    "        else:\n",
    "            return n*get_factorial(n-1)      \n",
    "    out_num = 1\n",
    "    for ele in range(1,in_num+1):\n",
    "        out_num *= get_factorial(ele)\n",
    "    print(f'fact_of_fact({in_num}) ➞ {out_num}')\n",
    "\n",
    "fact_of_fact(4)\n",
    "fact_of_fact(5)\n",
    "fact_of_fact(6)"
   ]
  }
 ],
 "metadata": {
  "kernelspec": {
   "display_name": "Python 3",
   "language": "python",
   "name": "python3"
  },
  "language_info": {
   "codemirror_mode": {
    "name": "ipython",
    "version": 3
   },
   "file_extension": ".py",
   "mimetype": "text/x-python",
   "name": "python",
   "nbconvert_exporter": "python",
   "pygments_lexer": "ipython3",
   "version": "3.8.8"
  }
 },
 "nbformat": 4,
 "nbformat_minor": 5
}
