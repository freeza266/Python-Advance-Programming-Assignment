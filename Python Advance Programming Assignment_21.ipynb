{
 "cells": [
  {
   "cell_type": "markdown",
   "id": "39c35a6f",
   "metadata": {},
   "source": [
    "# 1. Given a sentence, return the number of words which have the same first and last letter.\n",
    "\n",
    "Examples:\n",
    "\n",
    "count_same_ends(\"Pop! goes the balloon\") ➞ 1\n",
    "\n",
    "count_same_ends(\"And the crowd goes wild!\") ➞ 0\n",
    "\n",
    "count_same_ends(\"No I am not in a gang.\") ➞ 1"
   ]
  },
  {
   "cell_type": "code",
   "execution_count": 1,
   "id": "65fafff3",
   "metadata": {},
   "outputs": [
    {
     "name": "stdout",
     "output_type": "stream",
     "text": [
      "count_same_ends(Pop! goes the balloon) ➞ 1\n",
      "count_same_ends(And the crowd goes wild!) ➞ 0\n",
      "count_same_ends(No I am not in a gang.) ➞ 1\n"
     ]
    }
   ],
   "source": [
    "def count_same_ends(in_string):\n",
    "    special_chars = '!@#$%^&*.'\n",
    "    cleaned_string = ''\n",
    "    out_num = 0\n",
    "    for ele in in_string:\n",
    "        if ele not in special_chars:\n",
    "            cleaned_string += ele\n",
    "    for ele in cleaned_string.split(\" \"):\n",
    "        if ele[0].lower() == ele[-1].lower():\n",
    "            if len(ele) != 1:\n",
    "                out_num +=1\n",
    "    print(f'count_same_ends({in_string}) ➞ {out_num}')\n",
    "            \n",
    "count_same_ends(\"Pop! goes the balloon\")\n",
    "count_same_ends(\"And the crowd goes wild!\")\n",
    "count_same_ends(\"No I am not in a gang.\")"
   ]
  },
  {
   "cell_type": "markdown",
   "id": "8d165d75",
   "metadata": {},
   "source": [
    "# 2. The Atbash cipher is an encryption method in which each letter of a word is replaced with its \"mirror\" letter in the alphabet: A <=> Z; B <=> Y; C <=> X; etc.\n",
    "\n",
    "Create a function that takes a string and applies the Atbash cipher to it."
   ]
  },
  {
   "cell_type": "code",
   "execution_count": 2,
   "id": "92c90af5",
   "metadata": {},
   "outputs": [
    {
     "name": "stdout",
     "output_type": "stream",
     "text": [
      "atbash(apple) ➞ zkkov\n",
      "atbash(Hello world!) ➞ Svool dliow!\n",
      "atbash(Christmas is the 25th of December) ➞ Xsirhgnzh rh gsv 25gs lu Wvxvnyvi\n"
     ]
    }
   ],
   "source": [
    "def atbash(in_string):\n",
    "    alpha = 'abcdefghijklmnopqrstuvwxyz'\n",
    "    r_alpha = 'zyxwvutsrqponmlkjihgfedcba'\n",
    "    out_string = ''\n",
    "    for ele in in_string:\n",
    "        if ele not in \" !1234567890\":\n",
    "            out_string += r_alpha[alpha.index(ele.lower())].upper() if ele.isupper() else r_alpha[alpha.index(ele.lower())]\n",
    "        else:\n",
    "            out_string += ele\n",
    "    print(f'atbash({in_string}) ➞ {out_string}')\n",
    "        \n",
    "atbash(\"apple\")\n",
    "atbash(\"Hello world!\")\n",
    "atbash(\"Christmas is the 25th of December\")"
   ]
  },
  {
   "cell_type": "markdown",
   "id": "7b9f7277",
   "metadata": {},
   "source": [
    "# 3. Create a class Employee that will take a full name as argument, as well as a set of none, one or more keywords. Each instance should have a name and a lastname attributes plus one more attribute for each of the keywords, if any.\n",
    "\n",
    "Examples:\n",
    "\n",
    "john = Employee(\"John Doe\")\n",
    "\n",
    "mary = Employee(\"Mary Major\", salary=120000)\n",
    "\n",
    "richard = Employee(\"Richard Roe\", salary=110000, height=178)\n",
    "\n",
    "giancarlo = Employee(\"Giancarlo Rossi\", salary=115000, height=182, nationality=\"Italian\")\n",
    "\n",
    "john.name ➞ \"John\"\n",
    "\n",
    "mary.lastname ➞ \"Major\"\n",
    "\n",
    "richard.height ➞ 178\n",
    "\n",
    "giancarlo.nationality ➞ \"Italian\""
   ]
  },
  {
   "cell_type": "code",
   "execution_count": 3,
   "id": "4ac6d68b",
   "metadata": {},
   "outputs": [
    {
     "name": "stdout",
     "output_type": "stream",
     "text": [
      "john.name ➞ \"John Doe\"\n",
      "mary.lastname ➞ \"Major\"\n",
      "richard.height ➞ 178\n",
      "giancarlo.nationality ➞ \"Italian\"\n"
     ]
    }
   ],
   "source": [
    "class Employee:\n",
    "    def __init__(self,name=None,salary=None,height=None,nationality=None):\n",
    "        self.name = name\n",
    "        self.firstname = name.split(\" \")[0]\n",
    "        self.lastname = name.split(\" \")[1]\n",
    "        self.salary = salary\n",
    "        self.height = height\n",
    "        self.nationality = nationality\n",
    "        \n",
    "john = Employee(\"John Doe\")    \n",
    "mary = Employee(\"Mary Major\",salary=120000)\n",
    "richard = Employee(\"Richard Roe\", salary=110000, height=178)\n",
    "giancarlo = Employee(\"Giancarlo Rossi\", salary=115000, height=182, nationality=\"Italian\")\n",
    "\n",
    "print(f'john.name ➞ \"{john.name}\"')\n",
    "print(f'mary.lastname ➞ \"{mary.lastname}\"')\n",
    "print(f'richard.height ➞ {richard.height}')\n",
    "print(f'giancarlo.nationality ➞ \"{giancarlo.nationality}\"')"
   ]
  },
  {
   "cell_type": "markdown",
   "id": "f9166678",
   "metadata": {},
   "source": [
    "# 4. Create a function that determines whether each seat can \"see\" the front-stage. A number can \"see\" the front-stage if it is strictly greater than the number before it.\n",
    "\n",
    "Everyone can see the front-stage in the example below:\n",
    "\n",
    " FRONT STAGE [[1, 2, 3, 2, 1, 1], [2, 4, 4, 3, 2, 2], [5, 5, 5, 5, 4, 4], [6, 6, 7, 6, 5, 5]]\n",
    "\n",
    " Starting from the left, the 6 > 5 > 2 > 1, so all numbers can see.\n",
    " \n",
    " 6 > 5 > 4 > 2 - so all numbers can see, etc.\n",
    "\n",
    "Not everyone can see the front-stage in the example below:\n",
    "\n",
    " FRONT STAGE [[1, 2, 3, 2, 1, 1], [2, 4, 4, 3, 2, 2], [5, 5, 5, 10, 4, 4], [6, 6, 7, 6, 5, 5]]\n",
    "\n",
    " The 10 is directly in front of the 6 and blocking its view.\n",
    "\n",
    "The function should return True if every number can see the front-stage, and False if even a single number cannot.\n",
    "\n",
    "Examples:\n",
    "\n",
    "can_see_stage([[1, 2, 3],[4, 5, 6],[7, 8, 9]]) ➞ True\n",
    "\n",
    "can_see_stage([[0, 0, 0],[1, 1, 1],[2, 2, 2]]) ➞ True\n",
    "\n",
    "can_see_stage([[2, 0, 0],[1, 1, 1],[2, 2, 2]]) ➞ False\n",
    "\n",
    "can_see_stage([[1, 0, 0],[1, 1, 1],[2, 2, 2]]) ➞ False\n",
    "\n",
    " Number must be strictly smaller than\n",
    " \n",
    " the number directly behind it.\n",
    " "
   ]
  },
  {
   "cell_type": "code",
   "execution_count": 4,
   "id": "1b1a4aa5",
   "metadata": {},
   "outputs": [
    {
     "name": "stdout",
     "output_type": "stream",
     "text": [
      "can_see_stage([[1, 2, 3], [4, 5, 6], [7, 8, 9]]) ➞ True\n",
      "can_see_stage([[0, 0, 0], [1, 1, 1], [2, 2, 2]]) ➞ True\n",
      "can_see_stage([[2, 0, 0], [1, 1, 1], [2, 2, 2]]) ➞ False\n",
      "can_see_stage([[1, 0, 0], [1, 1, 1], [2, 2, 2]]) ➞ False\n"
     ]
    }
   ],
   "source": [
    "def can_see_stage(in_list):\n",
    "    transposed_list = []\n",
    "    for ele in range(len(in_list)):\n",
    "        temp_list = []\n",
    "        for item in range(len(in_list[ele])):\n",
    "            temp_list.append(in_list[item][ele])\n",
    "        transposed_list.append(temp_list)\n",
    "    output = True\n",
    "    for ele in transposed_list:\n",
    "        if ele != sorted(ele) or len(ele) != len(set(ele)):\n",
    "            output = False\n",
    "            break\n",
    "    print(f'can_see_stage({in_list}) ➞ {output}')\n",
    "        \n",
    "can_see_stage([[1, 2, 3],[4, 5, 6],[7, 8, 9]])\n",
    "can_see_stage([[0, 0, 0],[1, 1, 1],[2, 2, 2]])\n",
    "can_see_stage([[2, 0, 0],[1, 1, 1],[2, 2, 2]])\n",
    "can_see_stage([[1, 0, 0],[1, 1, 1],[2, 2, 2]])"
   ]
  },
  {
   "attachments": {
    "image.png": {
     "image/png": "[encoded data removed]"
    }
   },
   "cell_type": "markdown",
   "id": "e8d5ac01",
   "metadata": {},
   "source": [
    "# 5. Create a Pizza class with the attributes order_number and ingredients (which is given as a list). Only the ingredients will be given as input.\n",
    "\n",
    "You should also make it so that its possible to choose a ready made pizza flavour rather than typing out the ingredients manually! As well as creating this Pizza class, hard-code the following pizza flavours.\n",
    "![image.png](attachment:image.png)\n",
    "\n",
    "Examples:\n",
    "\n",
    "p1 = Pizza([\"bacon\", \"parmesan\", \"ham\"]) # order 1\n",
    "\n",
    "p2 = Pizza.garden_feast() # order 2\n",
    "\n",
    "p1.ingredients ➞ [\"bacon\", \"parmesan\", \"ham\"]\n",
    "\n",
    "p2.ingredients ➞ [\"spinach\", \"olives\", \"mushroom\"]\n",
    "\n",
    "p1.order_number ➞ 1\n",
    "\n",
    "p2.order_number ➞ 2"
   ]
  },
  {
   "cell_type": "code",
   "execution_count": 5,
   "id": "cdc50e9e",
   "metadata": {},
   "outputs": [
    {
     "name": "stdout",
     "output_type": "stream",
     "text": [
      "p1.ingredients ➞ ['bacon', 'parmesan', 'ham']\n",
      "p2.ingredients ➞ ['spinach', 'olives', 'mushroom']\n",
      "p1.order_number ➞ 1\n",
      "p2.order_number ➞ 2\n"
     ]
    }
   ],
   "source": [
    "class Pizza:\n",
    "    order_count = 0\n",
    "    def __init__(self,ingredients=None):\n",
    "        self.ingredients = ingredients\n",
    "        self.order_number = Pizza.order_count+1\n",
    "        Pizza.order_count = self.order_number\n",
    "    def hawaiian(self):\n",
    "        self.ingredients = ['ham', 'pineapple']\n",
    "    def meat_festival(self):\n",
    "        self.ingredients = ['beef', 'meatball', 'bacon']\n",
    "    def garden_feast(self):\n",
    "        self.ingredients = ['spinach', 'olives', 'mushroom']\n",
    "        \n",
    "p1 = Pizza([\"bacon\", \"parmesan\", \"ham\"])\n",
    "p2 = Pizza()\n",
    "p2.garden_feast()\n",
    "print(f'p1.ingredients ➞ {p1.ingredients}')\n",
    "print(f'p2.ingredients ➞ {p2.ingredients}')\n",
    "print(f'p1.order_number ➞ {p1.order_number}')\n",
    "print(f'p2.order_number ➞ {p2.order_number}')"
   ]
  }
 ],
 "metadata": {
  "kernelspec": {
   "display_name": "Python 3",
   "language": "python",
   "name": "python3"
  },
  "language_info": {
   "codemirror_mode": {
    "name": "ipython",
    "version": 3
   },
   "file_extension": ".py",
   "mimetype": "text/x-python",
   "name": "python",
   "nbconvert_exporter": "python",
   "pygments_lexer": "ipython3",
   "version": "3.8.8"
  }
 },
 "nbformat": 4,
 "nbformat_minor": 5
}
